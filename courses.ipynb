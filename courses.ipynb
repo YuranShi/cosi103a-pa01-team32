{
 "cells": [
  {
   "cell_type": "markdown",
   "metadata": {},
   "source": [
    "# Courses Demo\n",
    "This Jupyter notebook is for exploring the data set courses20-21.json\n",
    "which consists of all Brandeis courses in the 20-21 academic year (Fall20, Spr21, Sum21) \n",
    "which had at least 1 student enrolled.\n",
    "\n",
    "First we need to read the json file into a list of Python dictionaries"
   ]
  },
  {
   "cell_type": "markdown",
   "metadata": {},
   "source": []
  },
  {
   "cell_type": "code",
   "execution_count": 1,
   "metadata": {},
   "outputs": [],
   "source": [
    "import json"
   ]
  },
  {
   "cell_type": "code",
   "execution_count": 2,
   "metadata": {},
   "outputs": [],
   "source": [
    "with open(\"courses20-21.json\",\"r\",encoding='utf-8') as jsonfile:\n",
    "    courses = json.load(jsonfile)"
   ]
  },
  {
   "cell_type": "markdown",
   "metadata": {},
   "source": [
    "## Structure of a course\n",
    "Next we look at the fields of each course dictionary and their values"
   ]
  },
  {
   "cell_type": "code",
   "execution_count": 3,
   "metadata": {},
   "outputs": [
    {
     "name": "stdout",
     "output_type": "stream",
     "text": [
      "there are 7813 courses in the dataset\n",
      "here is the data for course 1246\n"
     ]
    },
    {
     "data": {
      "text/plain": [
       "{'limit': 28,\n",
       " 'times': [{'start': 1080, 'end': 1170, 'days': ['w', 'm']}],\n",
       " 'enrolled': 4,\n",
       " 'details': 'Instruction for this course will be offered remotely. Meeting times for this course are listed in the schedule of classes (in ET).',\n",
       " 'type': 'section',\n",
       " 'status_text': 'Open',\n",
       " 'section': '1',\n",
       " 'waiting': 0,\n",
       " 'instructor': ['An', 'Huang', 'anhuang@brandeis.edu'],\n",
       " 'coinstructors': [],\n",
       " 'code': ['MATH', '223A'],\n",
       " 'subject': 'MATH',\n",
       " 'coursenum': '223A',\n",
       " 'name': 'Lie Algebras: Representation Theory',\n",
       " 'independent_study': False,\n",
       " 'term': '1203',\n",
       " 'description': \"Theorems of Engel and Lie. Semisimple Lie algebras, Cartan's criterion. Universal enveloping algebras, PBW theorem, Serre's construction. Representation theory. Other topics as time permits. Usually offered every second year.\\nAn Huang\"}"
      ]
     },
     "execution_count": 3,
     "metadata": {},
     "output_type": "execute_result"
    }
   ],
   "source": [
    "print('there are',len(courses),'courses in the dataset')\n",
    "print('here is the data for course 1246')\n",
    "courses[1246]"
   ]
  },
  {
   "cell_type": "markdown",
   "metadata": {},
   "source": [
    "## Cleaning the data\n",
    "If we want to sort courses by instructor or by code, we need to replace the lists with tuples (which are immutable lists)"
   ]
  },
  {
   "cell_type": "code",
   "execution_count": 4,
   "metadata": {},
   "outputs": [],
   "source": [
    "for course in courses:\n",
    "        course['instructor'] = tuple(course['instructor'])\n",
    "        course['coinstructors'] = tuple([tuple(f) for f in course['coinstructors']])\n",
    "        course['code']= tuple(course['code'])"
   ]
  },
  {
   "cell_type": "code",
   "execution_count": 5,
   "metadata": {},
   "outputs": [
    {
     "name": "stdout",
     "output_type": "stream",
     "text": [
      "notice that the instructor and code are tuples now\n"
     ]
    },
    {
     "data": {
      "text/plain": [
       "{'limit': 28,\n",
       " 'times': [{'start': 1080, 'end': 1170, 'days': ['w', 'm']}],\n",
       " 'enrolled': 4,\n",
       " 'details': 'Instruction for this course will be offered remotely. Meeting times for this course are listed in the schedule of classes (in ET).',\n",
       " 'type': 'section',\n",
       " 'status_text': 'Open',\n",
       " 'section': '1',\n",
       " 'waiting': 0,\n",
       " 'instructor': ('An', 'Huang', 'anhuang@brandeis.edu'),\n",
       " 'coinstructors': (),\n",
       " 'code': ('MATH', '223A'),\n",
       " 'subject': 'MATH',\n",
       " 'coursenum': '223A',\n",
       " 'name': 'Lie Algebras: Representation Theory',\n",
       " 'independent_study': False,\n",
       " 'term': '1203',\n",
       " 'description': \"Theorems of Engel and Lie. Semisimple Lie algebras, Cartan's criterion. Universal enveloping algebras, PBW theorem, Serre's construction. Representation theory. Other topics as time permits. Usually offered every second year.\\nAn Huang\"}"
      ]
     },
     "execution_count": 5,
     "metadata": {},
     "output_type": "execute_result"
    }
   ],
   "source": [
    "print('notice that the instructor and code are tuples now')\n",
    "courses[1246]"
   ]
  },
  {
   "cell_type": "markdown",
   "metadata": {},
   "source": [
    "# Exploring the data set\n",
    "Now we will show how to use straight python to explore the data set and answer some interesting questions. Next week we will start learning Pandas/Numpy which are packages that make it easier to explore large dataset efficiently.\n",
    "\n",
    "Here are some questions we can try to asnwer:\n",
    "* what are all of the subjects of courses (e.g. COSI, MATH, JAPN, PHIL, ...)\n",
    "* which terms are represented?\n",
    "* how many instructors taught at Brandeis last year?\n",
    "* what were the five largest course sections?\n",
    "* what were the five largest courses (where we combine sections)?\n",
    "* which are the five largest subjects measured by number of courses offered?\n",
    "* which are the five largest courses measured by number of students taught?\n",
    "* which course had the most sections taught in 20-21?\n",
    "* who are the top five faculty in terms of number of students taught?\n",
    "* etc."
   ]
  },
  {
   "cell_type": "markdown",
   "metadata": {},
   "source": [
    "a. how many faculty taught COSI courses last year?"
   ]
  },
  {
   "cell_type": "code",
   "execution_count": 6,
   "metadata": {},
   "outputs": [
    {
     "data": {
      "text/plain": [
       "27"
      ]
     },
     "execution_count": 6,
     "metadata": {},
     "output_type": "execute_result"
    }
   ],
   "source": [
    "cosi_faculty_list = [(c['instructor']) for c in courses if c['subject']=='COSI']\n",
    "# remove duplicates in cosi_faculty_list using set (b/c set doesn't allow duplicates)\n",
    "cosi_faculty_list = list(set(cosi_faculty_list))\n",
    "len(cosi_faculty_list)"
   ]
  },
  {
   "cell_type": "markdown",
   "metadata": {},
   "source": [
    "b. what is the total number of students taking COSI courses last year?"
   ]
  },
  {
   "cell_type": "code",
   "execution_count": 7,
   "metadata": {},
   "outputs": [
    {
     "data": {
      "text/plain": [
       "2223"
      ]
     },
     "execution_count": 7,
     "metadata": {},
     "output_type": "execute_result"
    }
   ],
   "source": [
    "# The total number of students with duplicates (since we only have enrolled num)\n",
    "sum([(c['enrolled']) for c in courses if c['subject']=='COSI'])"
   ]
  },
  {
   "cell_type": "markdown",
   "metadata": {},
   "source": [
    "c. what was the median size of a COSI course last year (counting only those\n",
    "courses with at least 10 students)"
   ]
  },
  {
   "cell_type": "code",
   "execution_count": 8,
   "metadata": {},
   "outputs": [
    {
     "data": {
      "text/plain": [
       "37"
      ]
     },
     "execution_count": 8,
     "metadata": {},
     "output_type": "execute_result"
    }
   ],
   "source": [
    "import statistics\n",
    "statistics.median([(c['enrolled']) for c in courses if c['subject']=='COSI' and c['enrolled'] >= 10])"
   ]
  },
  {
   "cell_type": "markdown",
   "metadata": {},
   "source": [
    "d. create a list of tuples (E,S) where S is a subject and E is the number of students\n",
    "enrolled in courses in that subject, sort it and print the top 10. This shows the top\n",
    "10 subjects in terms of number of students taught."
   ]
  },
  {
   "cell_type": "code",
   "execution_count": 9,
   "metadata": {},
   "outputs": [
    {
     "data": {
      "text/plain": [
       "[(5318, 'HS'),\n",
       " (3085, 'BIOL'),\n",
       " (2766, 'BUS'),\n",
       " (2734, 'HWL'),\n",
       " (2322, 'CHEM'),\n",
       " (2315, 'ECON'),\n",
       " (2223, 'COSI'),\n",
       " (1785, 'MATH'),\n",
       " (1704, 'PSYC'),\n",
       " (1144, 'ANTH')]"
      ]
     },
     "execution_count": 9,
     "metadata": {},
     "output_type": "execute_result"
    }
   ],
   "source": [
    "subject_list = [(c['subject']) for c in courses]\n",
    "# remove duplicates in subject_list set (b/c set doesn't allow duplicates)\n",
    "subject_list = list(dict.fromkeys(subject_list))\n",
    "enrolled_subject = []\n",
    "for subject in subject_list:\n",
    "    enrolled_subject.append((sum([(c['enrolled']) for c in courses if c['subject']==subject]), subject))\n",
    "# sort the tuples based on the first element (number enrolled) in descending order\n",
    "enrolled_subject.sort(key=lambda y: y[0],reverse=True)\n",
    "enrolled_subject[:10] # print the first 10 elements"
   ]
  },
  {
   "cell_type": "markdown",
   "metadata": {},
   "source": [
    "e. do the same as in (d) but print the top 10 subjects in terms of number of courses\n",
    "offered"
   ]
  },
  {
   "cell_type": "code",
   "execution_count": 10,
   "metadata": {},
   "outputs": [
    {
     "data": {
      "text/plain": [
       "[(613, 'BIOL'),\n",
       " (498, 'HIST'),\n",
       " (417, 'PSYC'),\n",
       " (403, 'NEUR'),\n",
       " (296, 'BCHM'),\n",
       " (288, 'PHYS'),\n",
       " (274, 'HS'),\n",
       " (272, 'COSI'),\n",
       " (266, 'MUS'),\n",
       " (265, 'ENG')]"
      ]
     },
     "execution_count": 10,
     "metadata": {},
     "output_type": "execute_result"
    }
   ],
   "source": [
    "course_subject = []\n",
    "for subject in subject_list:\n",
    "    course_subject.append((len([(c) for c in courses if c['subject']==subject]), subject))\n",
    "# sort the tuples based on the first element (number enrolled) in descending order\n",
    "course_subject.sort(key=lambda y: y[0],reverse=True)\n",
    "course_subject[:10] # print the first 10 elements"
   ]
  },
  {
   "cell_type": "markdown",
   "metadata": {},
   "source": [
    "f. do the same as (d) but print the top 10 subjects in terms of number of faculty\n",
    "teaching courses in that subject"
   ]
  },
  {
   "cell_type": "code",
   "execution_count": 11,
   "metadata": {},
   "outputs": [
    {
     "data": {
      "text/plain": [
       "[(87, 'HS'),\n",
       " (67, 'BIOL'),\n",
       " (52, 'ECON'),\n",
       " (49, 'BCHM'),\n",
       " (47, 'BUS'),\n",
       " (47, 'HIST'),\n",
       " (46, 'BCBP'),\n",
       " (42, 'HWL'),\n",
       " (37, 'MATH'),\n",
       " (37, 'NEJS')]"
      ]
     },
     "execution_count": 11,
     "metadata": {},
     "output_type": "execute_result"
    }
   ],
   "source": [
    "faculty_subject = []\n",
    "for subject in subject_list:\n",
    "    faculty_tmp = [(c['instructor']) for c in courses if c['subject']==subject]\n",
    "    # remove duplicates in faculty_tmp using set (b/c set doesn't allow duplicates)\n",
    "    faculty_tmp = list(set(faculty_tmp))\n",
    "    faculty_subject.append((len(faculty_tmp),subject))\n",
    "# sort the tuples based on the first element (number enrolled) in descending order\n",
    "faculty_subject.sort(key=lambda y: y[0],reverse=True)\n",
    "faculty_subject[:10] # print the first 10 elements"
   ]
  },
  {
   "cell_type": "markdown",
   "metadata": {},
   "source": [
    "g. list the top 20 faculty in terms of number of students they taught"
   ]
  },
  {
   "cell_type": "code",
   "execution_count": 12,
   "metadata": {},
   "outputs": [
    {
     "data": {
      "text/plain": [
       "[(926, ('Leah', 'Berkenwald', 'leahb@brandeis.edu')),\n",
       " (583, ('Kene Nathan', 'Piasta', 'kpiasta@brandeis.edu')),\n",
       " (515, ('Stephanie', 'Murray', 'murray@brandeis.edu')),\n",
       " (489, ('Milos', 'Dolnik', 'dolnik@brandeis.edu')),\n",
       " (450, ('Maria', 'de Boef Miara', 'mmiara@brandeis.edu')),\n",
       " (439, ('Bryan', 'Ingoglia', 'ingoglia@brandeis.edu')),\n",
       " (422, ('Rachel V.E.', 'Woodruff', 'woodruff@brandeis.edu')),\n",
       " (411, ('Timothy J', 'Hickey', 'tjhickey@brandeis.edu')),\n",
       " (375, ('Daniel', 'Breen', 'dbreen91@brandeis.edu')),\n",
       " (365, ('Melissa', 'Kosinski-Collins', 'kosinski@brandeis.edu')),\n",
       " (355, ('Claudia', 'Novack', 'novack@brandeis.edu')),\n",
       " (342, ('Antonella', 'DiLillo', 'dilant@brandeis.edu')),\n",
       " (330, ('Jon', 'Chilingerian', 'chilinge@brandeis.edu')),\n",
       " (327, ('Ahmad', 'Namini', 'anamini@brandeis.edu')),\n",
       " (316, ('Iraklis', 'Tsekourakis', 'tsekourakis@brandeis.edu')),\n",
       " (315, ('Geoffrey', 'Clarke', 'geoffclarke@brandeis.edu')),\n",
       " (277, ('Peter', 'Mistark', 'pmistark@brandeis.edu')),\n",
       " (275, ('Brenda', 'Anderson', 'banders@brandeis.edu')),\n",
       " (261, ('Colleen', 'Hitchcock', 'hitchcock@brandeis.edu')),\n",
       " (259, ('Scott A.', 'Redenius', 'redenius@brandeis.edu'))]"
      ]
     },
     "execution_count": 12,
     "metadata": {},
     "output_type": "execute_result"
    }
   ],
   "source": [
    "faculty_list = [(c['instructor']) for c in courses]\n",
    "# remove duplicates in faculty_list using set (b/c set doesn't allow duplicates)\n",
    "faculty_list = list(set(faculty_list))\n",
    "\n",
    "faculty_student = []\n",
    "for faculty in faculty_list:\n",
    "    faculty_student.append((sum([(c['enrolled']) for c in courses if c['instructor']==faculty]), faculty))\n",
    "faculty_student.sort(key=lambda y: y[0],reverse=True)\n",
    "faculty_student[:20] # print the first 10 elements"
   ]
  },
  {
   "cell_type": "markdown",
   "metadata": {},
   "source": [
    "h. list the top 20 courses in terms of number of students taking that course (where\n",
    "you combine different sections and semesters, i.e. just use the subject and\n",
    "course number)"
   ]
  },
  {
   "cell_type": "code",
   "execution_count": 13,
   "metadata": {},
   "outputs": [
    {
     "data": {
      "text/plain": [
       "[(940, ('HWL', '1')),\n",
       " (879, ('HWL', '1-PRE')),\n",
       " (358, ('BIOL', '14A')),\n",
       " (343, ('COSI', '10A')),\n",
       " (336, ('PSYC', '10A')),\n",
       " (287, ('BIOL', '15B')),\n",
       " (280, ('MATH', '10A')),\n",
       " (274, ('BIOL', '18B')),\n",
       " (262, ('BIOL', '18A')),\n",
       " (245, ('CHEM', '29A')),\n",
       " (239, ('CHEM', '29B')),\n",
       " (236, ('CHEM', '25A')),\n",
       " (231, ('PSYC', '51A')),\n",
       " (226, ('CHEM', '25B')),\n",
       " (225, ('COSI', '12B')),\n",
       " (215, ('BUS', '6A')),\n",
       " (208, ('CHEM', '18A')),\n",
       " (207, ('ECON', '10A')),\n",
       " (204, ('MATH', '15A')),\n",
       " (201, ('ANTH', '1A'))]"
      ]
     },
     "execution_count": 13,
     "metadata": {},
     "output_type": "execute_result"
    }
   ],
   "source": [
    "course_student = []\n",
    "for course in courses:\n",
    "    code = course['code']\n",
    "    if code not in [cs[1] for cs in course_student]:\n",
    "        students_enrolled = sum([(c['enrolled']) for c in courses if c['code']==code])\n",
    "        course_student.append((students_enrolled, code))\n",
    "course_student.sort(key=lambda y: y[0],reverse=True)\n",
    "course_student[:20] # print the first 10 elements"
   ]
  },
  {
   "cell_type": "markdown",
   "metadata": {},
   "source": [
    "i. Create your own interesting question (each team member creates their own) and\n",
    "use Python to answer that question.\n",
    "* Molly's Question: How many independent studies are offered?\n"
   ]
  },
  {
   "cell_type": "code",
   "execution_count": 14,
   "metadata": {},
   "outputs": [
    {
     "data": {
      "text/plain": [
       "5477"
      ]
     },
     "execution_count": 14,
     "metadata": {},
     "output_type": "execute_result"
    }
   ],
   "source": [
    "len([(c) for c in courses if c['independent_study']==True])"
   ]
  },
  {
   "cell_type": "markdown",
   "metadata": {},
   "source": [
    "Tony's Question: How many courses of dependent studies are offered?"
   ]
  },
  {
   "cell_type": "code",
   "execution_count": 15,
   "metadata": {},
   "outputs": [
    {
     "data": {
      "text/plain": [
       "2336"
      ]
     },
     "execution_count": 15,
     "metadata": {},
     "output_type": "execute_result"
    }
   ],
   "source": [
    "len([(c) for c in courses if c['independent_study']==False])"
   ]
  }
 ],
 "metadata": {
  "kernelspec": {
   "display_name": "Python 3",
   "language": "python",
   "name": "python3"
  },
  "language_info": {
   "codemirror_mode": {
    "name": "ipython",
    "version": 3
   },
   "file_extension": ".py",
   "mimetype": "text/x-python",
   "name": "python",
   "nbconvert_exporter": "python",
   "pygments_lexer": "ipython3",
   "version": "3.9.7"
  }
 },
 "nbformat": 4,
 "nbformat_minor": 4
}
